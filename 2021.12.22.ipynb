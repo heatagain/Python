{
 "cells": [
  {
   "cell_type": "markdown",
   "id": "b6c7402d",
   "metadata": {},
   "source": [
    "### 삼항연산자\n",
    "- a if 조건식 else b"
   ]
  },
  {
   "cell_type": "code",
   "execution_count": 2,
   "id": "6dfdb3b8",
   "metadata": {},
   "outputs": [
    {
     "data": {
      "text/plain": [
       "'불합격'"
      ]
     },
     "execution_count": 2,
     "metadata": {},
     "output_type": "execute_result"
    }
   ],
   "source": [
    "score = 50\n",
    "'합격' if score > 60 else '불합격'"
   ]
  },
  {
   "cell_type": "code",
   "execution_count": 19,
   "id": "99350198",
   "metadata": {},
   "outputs": [
    {
     "name": "stdout",
     "output_type": "stream",
     "text": [
      "정수입력 >> 3\n",
      "정수입력 >> 10\n",
      "b: 10\n"
     ]
    }
   ],
   "source": [
    "a = int(input(\"정수입력 >> \"))\n",
    "b = int(input(\"정수입력 >> \"))\n",
    "print(f'b: {b}') if a < b else print(f'a: {a}')"
   ]
  },
  {
   "cell_type": "markdown",
   "id": "b8fb394b",
   "metadata": {},
   "source": [
    "### 두 개의 정수를 입력받아 큰 수에서 작은 수를 뺀 결과값 출력!"
   ]
  },
  {
   "cell_type": "code",
   "execution_count": 22,
   "id": "0f88b080",
   "metadata": {},
   "outputs": [
    {
     "name": "stdout",
     "output_type": "stream",
     "text": [
      "첫 번째 정수 입력 >> 5\n",
      "두 번째 정수 입력 >> 10\n",
      "두 수의 차 : 5\n"
     ]
    }
   ],
   "source": [
    "a = int(input(\"첫 번째 정수 입력 >> \"))\n",
    "b = int(input(\"두 번째 정수 입력 >> \"))\n",
    "print(f'두 수의 차 : {b-a}') if a < b else print(f'두 수의 차 : {a-b}')"
   ]
  },
  {
   "cell_type": "markdown",
   "id": "8cb9dc76",
   "metadata": {},
   "source": [
    "### 키보드로 정수를 입력받아 홀수인지 짝수인지 판별"
   ]
  },
  {
   "cell_type": "code",
   "execution_count": 24,
   "id": "b0445e60",
   "metadata": {},
   "outputs": [
    {
     "name": "stdout",
     "output_type": "stream",
     "text": [
      "정수 입력 >> 33\n",
      "33는(은) 홀수입니다.\n"
     ]
    }
   ],
   "source": [
    "a = int(input(\"정수 입력 >> \"))\n",
    "print(f'{a}는(은) 짝수입니다.')if a % 2 == 0 else print(f'{a}는(은) 홀수입니다.')"
   ]
  },
  {
   "cell_type": "code",
   "execution_count": 25,
   "id": "f9eced4f",
   "metadata": {},
   "outputs": [
    {
     "name": "stdout",
     "output_type": "stream",
     "text": [
      "정수 입력 >> 3\n",
      "3는(은) 홀수입니다.\n"
     ]
    }
   ],
   "source": [
    "a = int(input(\"정수 입력 >> \"))\n",
    "result = '짝수' if a % 2 == 0 else '홀수'\n",
    "print(f'{a}는(은) {result}입니다.')"
   ]
  },
  {
   "cell_type": "markdown",
   "id": "ea188c88",
   "metadata": {},
   "source": [
    "### 조건문\n",
    "-if, elif, else"
   ]
  },
  {
   "cell_type": "code",
   "execution_count": 29,
   "id": "a699af0c",
   "metadata": {},
   "outputs": [
    {
     "name": "stdout",
     "output_type": "stream",
     "text": [
      "실행문장실행\n",
      "if문 밖에 있는 문장 실행\n"
     ]
    }
   ],
   "source": [
    "if True:\n",
    "    print(\"실행문장실행\")\n",
    "print('if문 밖에 있는 문장 실행')"
   ]
  },
  {
   "cell_type": "code",
   "execution_count": 30,
   "id": "b4f5c3fe",
   "metadata": {},
   "outputs": [
    {
     "name": "stdout",
     "output_type": "stream",
     "text": [
      "if문 밖에 있는 문장 실행\n"
     ]
    }
   ],
   "source": [
    "if False:\n",
    "    print(\"실행문장실행\")\n",
    "print('if문 밖에 있는 문장 실행')"
   ]
  },
  {
   "cell_type": "code",
   "execution_count": 33,
   "id": "e374b60e",
   "metadata": {},
   "outputs": [
    {
     "name": "stdout",
     "output_type": "stream",
     "text": [
      "money >> 10000\n",
      "택시를 탄다.\n"
     ]
    }
   ],
   "source": [
    "money = int(input(\"money >> \"))\n",
    "if money >= 10000:\n",
    "    print(\"택시를 탄다.\")"
   ]
  },
  {
   "cell_type": "code",
   "execution_count": 34,
   "id": "690ade62",
   "metadata": {},
   "outputs": [
    {
     "name": "stdout",
     "output_type": "stream",
     "text": [
      "실행문장1\n"
     ]
    }
   ],
   "source": [
    "if True:\n",
    "    print('실행문장1')\n",
    "else:\n",
    "    print('실행문장2')"
   ]
  },
  {
   "cell_type": "code",
   "execution_count": 36,
   "id": "2188d720",
   "metadata": {},
   "outputs": [
    {
     "name": "stdout",
     "output_type": "stream",
     "text": [
      "실행문장2\n"
     ]
    }
   ],
   "source": [
    "if False:\n",
    "    print('실행문장1')\n",
    "else:\n",
    "    print('실행문장2')"
   ]
  },
  {
   "cell_type": "code",
   "execution_count": null,
   "id": "7b04bb35",
   "metadata": {},
   "outputs": [],
   "source": []
  },
  {
   "cell_type": "code",
   "execution_count": 41,
   "id": "6d54ae5e",
   "metadata": {},
   "outputs": [
    {
     "name": "stdout",
     "output_type": "stream",
     "text": [
      "money = 10000\n",
      "택시를 탄다.\n"
     ]
    }
   ],
   "source": [
    "money = int(input('money = '))\n",
    "if money >= 10000:\n",
    "    print('택시를 탄다.')\n",
    "else:\n",
    "    print('버스를 탄다.')"
   ]
  },
  {
   "cell_type": "code",
   "execution_count": null,
   "id": "8b6c57fc",
   "metadata": {},
   "outputs": [],
   "source": []
  },
  {
   "cell_type": "code",
   "execution_count": 45,
   "id": "4cf6eb56",
   "metadata": {},
   "outputs": [
    {
     "name": "stdout",
     "output_type": "stream",
     "text": [
      "정수 입력 >> 12\n",
      "3과 5의 배수가 아닙니다.\n"
     ]
    }
   ],
   "source": [
    "num = int(input('정수 입력 >> '))\n",
    "if num % 3 == 0 and num % 5 == 0:\n",
    "    print('3과 5의 배수입니다.')\n",
    "else:\n",
    "    print('3과 5의 배수가 아닙니다.')"
   ]
  },
  {
   "cell_type": "code",
   "execution_count": 48,
   "id": "47d69e6b",
   "metadata": {},
   "outputs": [
    {
     "name": "stdout",
     "output_type": "stream",
     "text": [
      "첫 번째 정수 입력 >> 7\n",
      "두 번째 정수 입력 >> 7\n",
      "두 수가 똑같습니다.\n"
     ]
    }
   ],
   "source": [
    "num1 = int(input('첫 번째 정수 입력 >> '))\n",
    "num2 = int(input('두 번째 정수 입력 >> '))\n",
    "if num1 > num2:\n",
    "    print('첫 번째 정수가 더 큽니다.')\n",
    "elif num1 < num2:\n",
    "    print('두 번째 정수가 더 큽니다.')\n",
    "else:\n",
    "    print('두 수가 똑같습니다.')"
   ]
  },
  {
   "cell_type": "code",
   "execution_count": 58,
   "id": "dec856d5",
   "metadata": {},
   "outputs": [
    {
     "name": "stdout",
     "output_type": "stream",
     "text": [
      "점수 입력 >> 80\n",
      "80점은 B학점입니다.\n"
     ]
    }
   ],
   "source": [
    "score = int(input('점수 입력 >> '))\n",
    "if score <= 100 and score >= 90:\n",
    "    grade = 'A'\n",
    "elif score < 90 and score >= 80:\n",
    "    grade = 'B'\n",
    "elif score < 80 and score >= 70:\n",
    "    grade = 'C'\n",
    "elif score < 70 and score >= 60:\n",
    "    grade = 'D'\n",
    "else:\n",
    "    grade = 'F'\n",
    "print('{}점은 {}학점입니다.'.format(score, grade))\n"
   ]
  },
  {
   "cell_type": "code",
   "execution_count": 76,
   "id": "62472a5c",
   "metadata": {},
   "outputs": [
    {
     "name": "stdout",
     "output_type": "stream",
     "text": [
      "\n",
      "================================================\n",
      "================---- 자판기 ----================\n",
      "================================================\n",
      "== 1.콜라 == 2.사이다 ==  3.물  =======insert===\n",
      "==--------==----------==--------=======------===\n",
      "==   600  ==    800   ==  1000  ======= O00원===\n",
      "=======================================------===\n",
      "================================================\n",
      "==++++++++++++++++++++++++++++++++++++++++++++==\n",
      "==++++++++++++++++++++++++++++++++++++++++++++==\n",
      "==++++++++++++++++++++++++++++++++++++++++++++==\n",
      "==+++++++++++++++              +++++++++++++++==\n",
      "==+++++++++++++++     SMHRD    +++++++++++++++==\n",
      "==+++++++++++++++              +++++++++++++++==\n",
      "==++++++++++++++++++++++++++++++++++++++++++++==\n",
      "==++++++++++++++++++++++++++++++++++++++++++++==\n",
      "================================================\n",
      "================================================\n",
      "  ===                                      ===\n",
      "  ===                                      ===\n",
      "\n",
      "insert coin >> 2000\n",
      "메뉴 선택 >> 1\n",
      "잔돈 >> 1000원 1개, 500원 0개, 100원 4개\n",
      "메뉴 선택 >> 3\n",
      "잔돈 >> 1000원 0개, 500원 0개, 100원 4개\n"
     ]
    }
   ],
   "source": [
    "print('''\n",
    "================================================\n",
    "================---- 자판기 ----================\n",
    "================================================\n",
    "== 1.콜라 == 2.사이다 ==  3.물  =======insert===\n",
    "==--------==----------==--------=======------===\n",
    "==   600  ==    800   ==  1000  ======= O00원===\n",
    "=======================================------===\n",
    "================================================\n",
    "==++++++++++++++++++++++++++++++++++++++++++++==\n",
    "==++++++++++++++++++++++++++++++++++++++++++++==\n",
    "==++++++++++++++++++++++++++++++++++++++++++++==\n",
    "==+++++++++++++++              +++++++++++++++==\n",
    "==+++++++++++++++     SMHRD    +++++++++++++++==\n",
    "==+++++++++++++++              +++++++++++++++==\n",
    "==++++++++++++++++++++++++++++++++++++++++++++==\n",
    "==++++++++++++++++++++++++++++++++++++++++++++==\n",
    "================================================\n",
    "================================================\n",
    "  ===                                      ===\n",
    "  ===                                      ===\n",
    "''')\n",
    "coin = int(input('insert coin >> '))\n",
    "while coin > 600:\n",
    "    menu = int(input('메뉴 선택 >> '))\n",
    "    if menu == 1:\n",
    "        if coin >= 600:\n",
    "            coin -= 600\n",
    "            th = coin // 1000\n",
    "            o = (coin % 1000) // 500\n",
    "            b = (coin % 1000 % 500) // 100\n",
    "            print('잔돈 >> 1000원 {}개, 500원 {}개, 100원 {}개'.format(th, o, b))\n",
    "        else:\n",
    "            print('돈 부족')\n",
    "    elif menu == 2:\n",
    "        if coin >= 800:\n",
    "            coin -= 800\n",
    "            th = coin // 1000\n",
    "            o = (coin % 1000) // 500\n",
    "            b = (coin % 1000 % 500) // 100\n",
    "            print('잔돈 >> 1000원 {}개, 500원 {}개, 100원 {}개'.format(th, o, b))\n",
    "        else:\n",
    "            print('돈 부족')\n",
    "    elif menu == 3:\n",
    "        if coin >= 1000:\n",
    "            coin -= 1000\n",
    "            th = coin // 1000\n",
    "            o = (coin % 1000) // 500\n",
    "            b = (coin % 1000 % 500) // 100\n",
    "            print('잔돈 >> 1000원 {}개, 500원 {}개, 100원 {}개'.format(th, o, b))\n",
    "        else:\n",
    "            print('돈 부족')\n",
    "    else:\n",
    "        print('없어 그런거')\n",
    "    \n"
   ]
  },
  {
   "cell_type": "code",
   "execution_count": 77,
   "id": "73cf13fd",
   "metadata": {},
   "outputs": [
    {
     "name": "stdout",
     "output_type": "stream",
     "text": [
      "\n",
      "================================================\n",
      "================---- 자판기 ----================\n",
      "================================================\n",
      "== 1.콜라 == 2.사이다 ==  3.물  =======insert===\n",
      "==--------==----------==--------=======------===\n",
      "==   600  ==    800   ==  1000  ======= O00원===\n",
      "=======================================------===\n",
      "================================================\n",
      "==++++++++++++++++++++++++++++++++++++++++++++==\n",
      "==++++++++++++++++++++++++++++++++++++++++++++==\n",
      "==++++++++++++++++++++++++++++++++++++++++++++==\n",
      "==+++++++++++++++              +++++++++++++++==\n",
      "==+++++++++++++++     SMHRD    +++++++++++++++==\n",
      "==+++++++++++++++              +++++++++++++++==\n",
      "==++++++++++++++++++++++++++++++++++++++++++++==\n",
      "==++++++++++++++++++++++++++++++++++++++++++++==\n",
      "================================================\n",
      "================================================\n",
      "  ===                                      ===\n",
      "  ===                                      ===\n",
      "\n",
      "메뉴 >> 1\n",
      "돈을 넣어줘>> 5000\n",
      "천원:4 오백원:0 백원:4\n"
     ]
    }
   ],
   "source": [
    "print('''\n",
    "================================================\n",
    "================---- 자판기 ----================\n",
    "================================================\n",
    "== 1.콜라 == 2.사이다 ==  3.물  =======insert===\n",
    "==--------==----------==--------=======------===\n",
    "==   600  ==    800   ==  1000  ======= O00원===\n",
    "=======================================------===\n",
    "================================================\n",
    "==++++++++++++++++++++++++++++++++++++++++++++==\n",
    "==++++++++++++++++++++++++++++++++++++++++++++==\n",
    "==++++++++++++++++++++++++++++++++++++++++++++==\n",
    "==+++++++++++++++              +++++++++++++++==\n",
    "==+++++++++++++++     SMHRD    +++++++++++++++==\n",
    "==+++++++++++++++              +++++++++++++++==\n",
    "==++++++++++++++++++++++++++++++++++++++++++++==\n",
    "==++++++++++++++++++++++++++++++++++++++++++++==\n",
    "================================================\n",
    "================================================\n",
    "  ===                                      ===\n",
    "  ===                                      ===\n",
    "''')\n",
    "\n",
    "menu = int(input('메뉴 >> '))\n",
    "money = int(input('돈을 넣어줘>> '))\n",
    "\n",
    "if menu == 1:\n",
    "    change = money - 600\n",
    "elif menu == 2:\n",
    "    change = money - 800\n",
    "elif menu == 3:\n",
    "    change = money - 100\n",
    "    \n",
    "if change < 0:\n",
    "    print(\"잔액이 부족\")\n",
    "else:\n",
    "    ch_1000 = change // 1000\n",
    "    ch_500 = change % 1000 // 500\n",
    "    ch_100 = change % 1000 % 500 // 100\n",
    "    print(f'천원:{ch_1000} 오백원:{ch_500} 백원:{ch_100}')\n"
   ]
  },
  {
   "cell_type": "markdown",
   "id": "f72cc7c4",
   "metadata": {},
   "source": [
    "### 리스트\n",
    "- 파이썬의 자료구조 형태 중 하나\n",
    "- 순서가 있는 수정이 가능한 객체의 집합\n",
    "- 추가, 수정, 삭제 가능!"
   ]
  },
  {
   "cell_type": "code",
   "execution_count": 84,
   "id": "c18dd3f7",
   "metadata": {},
   "outputs": [
    {
     "name": "stdout",
     "output_type": "stream",
     "text": [
      "[1, 2, ['my', 'name']]\n"
     ]
    }
   ],
   "source": [
    "a = []\n",
    "b = [1,2,3]\n",
    "c = ['my','name']\n",
    "d = [1,2,'my','name']\n",
    "e = [1,2,['my','name']]\n",
    "print(e)"
   ]
  },
  {
   "cell_type": "code",
   "execution_count": 88,
   "id": "e545a608",
   "metadata": {},
   "outputs": [
    {
     "name": "stdout",
     "output_type": "stream",
     "text": [
      "2\n",
      "7\n",
      "17\n"
     ]
    }
   ],
   "source": [
    "list1 = [2,5,7,9,10]\n",
    "print(list1[0])\n",
    "print(list1[2])\n",
    "print(list1[2] + list1[-1])"
   ]
  },
  {
   "cell_type": "code",
   "execution_count": 89,
   "id": "07455b55",
   "metadata": {},
   "outputs": [
    {
     "data": {
      "text/plain": [
       "[1, 2, 3, ['a', 'b', 'c']]"
      ]
     },
     "execution_count": 89,
     "metadata": {},
     "output_type": "execute_result"
    }
   ],
   "source": [
    "list2 = [1, 2, 3, ['a', 'b', 'c']]\n",
    "list2"
   ]
  },
  {
   "cell_type": "code",
   "execution_count": 97,
   "id": "8c2aa0fd",
   "metadata": {},
   "outputs": [
    {
     "name": "stdout",
     "output_type": "stream",
     "text": [
      "['a', 'b', 'c']\n"
     ]
    }
   ],
   "source": [
    "temp = list2[3]\n",
    "print(temp)"
   ]
  },
  {
   "cell_type": "code",
   "execution_count": 98,
   "id": "c94b39c1",
   "metadata": {},
   "outputs": [
    {
     "name": "stdout",
     "output_type": "stream",
     "text": [
      "b\n",
      "b\n"
     ]
    }
   ],
   "source": [
    "#b를 출력하세요!\n",
    "print(list2[3][1])\n",
    "print(temp[1])"
   ]
  },
  {
   "cell_type": "code",
   "execution_count": 103,
   "id": "2a1cb86b",
   "metadata": {},
   "outputs": [
    {
     "name": "stdout",
     "output_type": "stream",
     "text": [
      "[1, 2]\n",
      "[0, 1]\n",
      "[3, 4]\n",
      "[3]\n",
      "[3, 4]\n"
     ]
    }
   ],
   "source": [
    "list3 = [0, 1, 2, 3, 4]\n",
    "print(list3[1:3])\n",
    "print(list3[:2])\n",
    "print(list3[3:])\n",
    "print(list3[3:4])\n",
    "print(list3[-2:])"
   ]
  },
  {
   "cell_type": "code",
   "execution_count": 104,
   "id": "84764cd3",
   "metadata": {},
   "outputs": [
    {
     "data": {
      "text/plain": [
       "[1, 2, 3, 3, 4, 5, 6]"
      ]
     },
     "execution_count": 104,
     "metadata": {},
     "output_type": "execute_result"
    }
   ],
   "source": [
    "list4 = [1, 2, 3]\n",
    "list5 = [3, 4, 5, 6]\n",
    "list4 + list5"
   ]
  },
  {
   "cell_type": "code",
   "execution_count": 105,
   "id": "10f593b2",
   "metadata": {},
   "outputs": [
    {
     "data": {
      "text/plain": [
       "[0, 1, 2, 3, 4, 5]"
      ]
     },
     "execution_count": 105,
     "metadata": {},
     "output_type": "execute_result"
    }
   ],
   "source": [
    "#append함수를 활용한 값 추가(맨 뒤에 값이 추가된다)\n",
    "list6 = [0, 1, 2, 3, 4]\n",
    "list6.append(5)\n",
    "list6"
   ]
  },
  {
   "cell_type": "code",
   "execution_count": 125,
   "id": "a8487c34",
   "metadata": {},
   "outputs": [
    {
     "data": {
      "text/plain": [
       "['사과', '오렌지', '수박']"
      ]
     },
     "execution_count": 125,
     "metadata": {},
     "output_type": "execute_result"
    }
   ],
   "source": [
    "listfu = ['사과', '포도',['수박', '멜론'], '복숭아', '딸기', '오렌지']\n",
    "choice_list = []\n",
    "choice_list.append(listfu[0])\n",
    "choice_list.append(listfu[-1])\n",
    "choice_list.append(listfu[2][0])\n",
    "\n",
    "choice_list"
   ]
  },
  {
   "cell_type": "code",
   "execution_count": 127,
   "id": "f0622098",
   "metadata": {},
   "outputs": [
    {
     "name": "stdout",
     "output_type": "stream",
     "text": [
      "['사과', '수박', '오렌지']\n"
     ]
    }
   ],
   "source": [
    "list_fruit = ['사과', '포도',['수박', '멜론'], '복숭아', '딸기', '오렌지']\n",
    "list_apple = list_fruit[0]\n",
    "list_watermelon = list_fruit[2][0]\n",
    "list_orange = list_fruit[5]\n",
    "choice_list = []\n",
    "choice_list.append(list_apple)\n",
    "choice_list.append(list_watermelon)\n",
    "choice_list.append(list_orange)\n",
    "print(choice_list)"
   ]
  },
  {
   "cell_type": "code",
   "execution_count": null,
   "id": "78a48028",
   "metadata": {},
   "outputs": [],
   "source": [
    "#insert(인덱스 위치, 값) 함수 사용!\n",
    "#인덱스 위치에 값 추가"
   ]
  },
  {
   "cell_type": "code",
   "execution_count": 135,
   "id": "43fb48a5",
   "metadata": {},
   "outputs": [
    {
     "name": "stdout",
     "output_type": "stream",
     "text": [
      "[0, 5, 1, 2, 3, 4]\n"
     ]
    }
   ],
   "source": [
    "list5 = [0, 1, 2, 3, 4]\n",
    "list5.insert(1,5)\n",
    "print(list5)"
   ]
  },
  {
   "cell_type": "code",
   "execution_count": 136,
   "id": "b9a3f4a9",
   "metadata": {},
   "outputs": [
    {
     "name": "stdout",
     "output_type": "stream",
     "text": [
      "[0, 5, 1, 2, 3, 6, 4]\n"
     ]
    }
   ],
   "source": [
    "list5.insert(5, 6)\n",
    "print(list5)"
   ]
  },
  {
   "cell_type": "code",
   "execution_count": 138,
   "id": "882fec0c",
   "metadata": {},
   "outputs": [
    {
     "name": "stdout",
     "output_type": "stream",
     "text": [
      "인덱스 위치 입력 >> 2\n",
      "노래 제목 입력 >> 로린\n",
      "가수 입력 >> 브레이브걸스\n",
      "[['Butter', '방탄'], ['헤픈 우연', '헤이즈'], ['로린', '브레이브걸스'], ['라일락', '아이유']]\n"
     ]
    }
   ],
   "source": [
    "music_list=[['Butter','방탄'], ['헤픈 우연', '헤이즈'], ['라일락', '아이유']]\n",
    "loc = int(input('인덱스 위치 입력 >> '))\n",
    "song = input('노래 제목 입력 >> ')\n",
    "singer = input('가수 입력 >> ')\n",
    "\n",
    "music_list.insert(loc,[song, singer])\n",
    "print('music_list', music_list)\n"
   ]
  },
  {
   "cell_type": "code",
   "execution_count": 139,
   "id": "ce9ba352",
   "metadata": {},
   "outputs": [
    {
     "name": "stdout",
     "output_type": "stream",
     "text": [
      "인덱스 위치 입력 >> 3\n",
      "노래 제목 입력 >> 홀리\n",
      "가수 입력 >> 아이유\n",
      "music_list [['Butter', '방탄'], ['헤픈 우연', '헤이즈'], ['로린', '브레이브걸스'], ['홀리', '아이유'], ['라일락', '아이유']]\n"
     ]
    }
   ],
   "source": [
    "loc = int(input('인덱스 위치 입력 >> '))\n",
    "song = input('노래 제목 입력 >> ')\n",
    "singer = input('가수 입력 >> ')\n",
    "\n",
    "music_list.insert(loc,[song, singer])\n",
    "print('music_list', music_list)"
   ]
  },
  {
   "cell_type": "code",
   "execution_count": 140,
   "id": "bbbe6458",
   "metadata": {},
   "outputs": [
    {
     "data": {
      "text/plain": [
       "[0, 1, 2, 3, 4, 5]"
      ]
     },
     "execution_count": 140,
     "metadata": {},
     "output_type": "execute_result"
    }
   ],
   "source": [
    "list6 = [0, 1, 2, 3, 4, 5]\n",
    "list6"
   ]
  },
  {
   "cell_type": "code",
   "execution_count": 143,
   "id": "44629159",
   "metadata": {},
   "outputs": [
    {
     "name": "stdout",
     "output_type": "stream",
     "text": [
      "수정 전 : 1\n",
      "수정 후 : 7\n"
     ]
    }
   ],
   "source": [
    "print('수정 전 :', list6[1])\n",
    "list6[1] = 7\n",
    "print('수정 후 :', list6[1])"
   ]
  },
  {
   "cell_type": "code",
   "execution_count": 144,
   "id": "71337044",
   "metadata": {},
   "outputs": [
    {
     "data": {
      "text/plain": [
       "[0, 7, 2, 3, 4, 5]"
      ]
     },
     "execution_count": 144,
     "metadata": {},
     "output_type": "execute_result"
    }
   ],
   "source": [
    "list6"
   ]
  },
  {
   "cell_type": "code",
   "execution_count": 146,
   "id": "f6e41603",
   "metadata": {},
   "outputs": [
    {
     "name": "stdout",
     "output_type": "stream",
     "text": [
      "[0, 7, 2, 7, 5]\n"
     ]
    }
   ],
   "source": [
    "list6[3:5] = [7]\n",
    "print(list6)"
   ]
  },
  {
   "cell_type": "code",
   "execution_count": 163,
   "id": "8d6aae17",
   "metadata": {},
   "outputs": [],
   "source": [
    "array = [1, 2, 3, 4, 5]"
   ]
  },
  {
   "cell_type": "code",
   "execution_count": 167,
   "id": "cda381b5",
   "metadata": {},
   "outputs": [
    {
     "name": "stdout",
     "output_type": "stream",
     "text": [
      "['h', 'i', 'j', ['a', 'b', 'c'], 3, 'd', 'e', 'f', 'g']\n"
     ]
    }
   ],
   "source": [
    "array[4] = 7\n",
    "array[1] = ['a','b','c']\n",
    "array[3:] = ['d','e','f','g']\n",
    "array[:1] = ['h', 'i', 'j'] \n",
    "print(array)"
   ]
  },
  {
   "cell_type": "markdown",
   "id": "e42e28d4",
   "metadata": {},
   "source": [
    "### 리스트 값 삭제"
   ]
  },
  {
   "cell_type": "code",
   "execution_count": 168,
   "id": "7b35ff38",
   "metadata": {},
   "outputs": [
    {
     "data": {
      "text/plain": [
       "[0, 2, 3, 4, 5]"
      ]
     },
     "execution_count": 168,
     "metadata": {},
     "output_type": "execute_result"
    }
   ],
   "source": [
    "list7 = [0, 1, 2, 3, 4, 5]\n",
    "#del 키워드\n",
    "del list7[1]\n",
    "list7"
   ]
  },
  {
   "cell_type": "code",
   "execution_count": 169,
   "id": "13cd3bd6",
   "metadata": {},
   "outputs": [
    {
     "data": {
      "text/plain": [
       "[0, 5]"
      ]
     },
     "execution_count": 169,
     "metadata": {},
     "output_type": "execute_result"
    }
   ],
   "source": [
    "del list7[1:4]\n",
    "list7"
   ]
  },
  {
   "cell_type": "code",
   "execution_count": 175,
   "id": "9ae6e53e",
   "metadata": {},
   "outputs": [
    {
     "data": {
      "text/plain": [
       "['a', 'c', 'd', 'e']"
      ]
     },
     "execution_count": 175,
     "metadata": {},
     "output_type": "execute_result"
    }
   ],
   "source": [
    "#remove(값) 함수 이용해서 값 삭제\n",
    "list7 = ['a', 'b', 'c', 'd', 'e']\n",
    "list7.remove('b')\n",
    "list7\n"
   ]
  },
  {
   "cell_type": "code",
   "execution_count": 176,
   "id": "adc91431",
   "metadata": {},
   "outputs": [
    {
     "data": {
      "text/plain": [
       "[9, 77, 13, 51, 100, 3]"
      ]
     },
     "execution_count": 176,
     "metadata": {},
     "output_type": "execute_result"
    }
   ],
   "source": [
    "#sort() - 리스트에 있는 값을 오름차순으로 정렬\n",
    "list8 = [9, 77, 13, 51, 100, 3]\n",
    "list8"
   ]
  },
  {
   "cell_type": "code",
   "execution_count": 177,
   "id": "9bd46ceb",
   "metadata": {},
   "outputs": [
    {
     "data": {
      "text/plain": [
       "[3, 9, 13, 51, 77, 100]"
      ]
     },
     "execution_count": 177,
     "metadata": {},
     "output_type": "execute_result"
    }
   ],
   "source": [
    "list8.sort()\n",
    "list8"
   ]
  },
  {
   "cell_type": "code",
   "execution_count": 194,
   "id": "491976ee",
   "metadata": {},
   "outputs": [
    {
     "data": {
      "text/plain": [
       "[9, 77, 13, 51, 100, 3]"
      ]
     },
     "execution_count": 194,
     "metadata": {},
     "output_type": "execute_result"
    }
   ],
   "source": [
    "#reverse() - 리스트에 있는 값을 역순으로 뒤집음\n",
    "#원래 True값이 역순이기 때문에 False값으로 넣으면 정방향으로 사용가능!\n",
    "list9 = [9, 77, 13, 51, 100, 3]\n",
    "list9"
   ]
  },
  {
   "cell_type": "code",
   "execution_count": 190,
   "id": "1f60dc99",
   "metadata": {},
   "outputs": [
    {
     "data": {
      "text/plain": [
       "[100, 77, 51, 13, 9, 3]"
      ]
     },
     "execution_count": 190,
     "metadata": {},
     "output_type": "execute_result"
    }
   ],
   "source": [
    "list9.reverse()\n",
    "list9"
   ]
  },
  {
   "cell_type": "code",
   "execution_count": null,
   "id": "bb69cf72",
   "metadata": {},
   "outputs": [],
   "source": [
    "list9.sort()\n",
    "list9\n",
    "list9.reverse()\n",
    "list9"
   ]
  },
  {
   "cell_type": "code",
   "execution_count": 199,
   "id": "5d424f9c",
   "metadata": {},
   "outputs": [
    {
     "data": {
      "text/plain": [
       "[3, 9, 13, 51, 77, 100]"
      ]
     },
     "execution_count": 199,
     "metadata": {},
     "output_type": "execute_result"
    }
   ],
   "source": [
    "list9\n",
    "list9.sort(reverse = False)\n",
    "list9"
   ]
  },
  {
   "cell_type": "code",
   "execution_count": 201,
   "id": "77f2c4a9",
   "metadata": {},
   "outputs": [
    {
     "data": {
      "text/plain": [
       "2"
      ]
     },
     "execution_count": 201,
     "metadata": {},
     "output_type": "execute_result"
    }
   ],
   "source": [
    "#index() - 찾고자하는 값의 위치를 반환\n",
    "list11 = ['a','b','c','d','e','f','c','c']\n",
    "list11.index('c')"
   ]
  },
  {
   "cell_type": "code",
   "execution_count": 202,
   "id": "1cd5109e",
   "metadata": {},
   "outputs": [
    {
     "data": {
      "text/plain": [
       "3"
      ]
     },
     "execution_count": 202,
     "metadata": {},
     "output_type": "execute_result"
    }
   ],
   "source": [
    "#count() - 찾고자하는 값이 몇번 들어있는지 반환\n",
    "list11.count('c')"
   ]
  },
  {
   "cell_type": "code",
   "execution_count": 205,
   "id": "0177727d",
   "metadata": {},
   "outputs": [
    {
     "data": {
      "text/plain": [
       "['a', 'b', 'c', 'd', 'e', 'f']"
      ]
     },
     "execution_count": 205,
     "metadata": {},
     "output_type": "execute_result"
    }
   ],
   "source": [
    "#pop() - 마지막 값을 반환 후 삭제!\n",
    "list11.pop()\n",
    "list11"
   ]
  },
  {
   "cell_type": "code",
   "execution_count": 208,
   "id": "27e99502",
   "metadata": {},
   "outputs": [
    {
     "data": {
      "text/plain": [
       "6"
      ]
     },
     "execution_count": 208,
     "metadata": {},
     "output_type": "execute_result"
    }
   ],
   "source": [
    "#len(리스트) - 리스트 값 개수 반환\n",
    "list12 = [0, 1, 2]\n",
    "len(list12)\n",
    "len(list11)"
   ]
  },
  {
   "cell_type": "code",
   "execution_count": null,
   "id": "a9ac23ce",
   "metadata": {},
   "outputs": [],
   "source": [
    "튜플\n",
    "- 파이썬의 자료구조 형태중 하나\n",
    "- 순서가 있는 집합\n",
    "- 소괄호()로 작성되어지며, 튜플의 내부 값은 콤마로 구분\n",
    "- 추가, 수정, 삭제 불가능"
   ]
  },
  {
   "cell_type": "code",
   "execution_count": null,
   "id": "9678700d",
   "metadata": {},
   "outputs": [],
   "source": []
  },
  {
   "cell_type": "code",
   "execution_count": null,
   "id": "238cbe23",
   "metadata": {},
   "outputs": [],
   "source": []
  },
  {
   "cell_type": "code",
   "execution_count": null,
   "id": "8019baa8",
   "metadata": {},
   "outputs": [],
   "source": []
  },
  {
   "cell_type": "code",
   "execution_count": null,
   "id": "53e922e2",
   "metadata": {},
   "outputs": [],
   "source": []
  },
  {
   "cell_type": "code",
   "execution_count": null,
   "id": "8d0c3688",
   "metadata": {},
   "outputs": [],
   "source": []
  },
  {
   "cell_type": "code",
   "execution_count": null,
   "id": "9ecbc7d5",
   "metadata": {},
   "outputs": [],
   "source": []
  },
  {
   "cell_type": "code",
   "execution_count": null,
   "id": "b3f73b42",
   "metadata": {},
   "outputs": [],
   "source": []
  },
  {
   "cell_type": "code",
   "execution_count": null,
   "id": "085822de",
   "metadata": {},
   "outputs": [],
   "source": []
  },
  {
   "cell_type": "code",
   "execution_count": null,
   "id": "cf0a2bd6",
   "metadata": {},
   "outputs": [],
   "source": []
  },
  {
   "cell_type": "code",
   "execution_count": null,
   "id": "4c6a8159",
   "metadata": {},
   "outputs": [],
   "source": []
  },
  {
   "cell_type": "code",
   "execution_count": null,
   "id": "161ea4d1",
   "metadata": {},
   "outputs": [],
   "source": []
  },
  {
   "cell_type": "code",
   "execution_count": null,
   "id": "7717ffee",
   "metadata": {},
   "outputs": [],
   "source": []
  },
  {
   "cell_type": "code",
   "execution_count": null,
   "id": "029baf07",
   "metadata": {},
   "outputs": [],
   "source": []
  },
  {
   "cell_type": "code",
   "execution_count": null,
   "id": "1ad84ff3",
   "metadata": {},
   "outputs": [],
   "source": []
  },
  {
   "cell_type": "code",
   "execution_count": null,
   "id": "7a7f9064",
   "metadata": {},
   "outputs": [],
   "source": []
  },
  {
   "cell_type": "code",
   "execution_count": null,
   "id": "eaa059cd",
   "metadata": {},
   "outputs": [],
   "source": []
  },
  {
   "cell_type": "code",
   "execution_count": null,
   "id": "97ebe9fc",
   "metadata": {},
   "outputs": [],
   "source": []
  }
 ],
 "metadata": {
  "kernelspec": {
   "display_name": "Python 3 (ipykernel)",
   "language": "python",
   "name": "python3"
  },
  "language_info": {
   "codemirror_mode": {
    "name": "ipython",
    "version": 3
   },
   "file_extension": ".py",
   "mimetype": "text/x-python",
   "name": "python",
   "nbconvert_exporter": "python",
   "pygments_lexer": "ipython3",
   "version": "3.9.7"
  }
 },
 "nbformat": 4,
 "nbformat_minor": 5
}
