{
 "cells": [
  {
   "cell_type": "markdown",
   "id": "513051ee",
   "metadata": {},
   "source": [
    "### 튜플(tuple)\n",
    "- 파이썬의 자료구조 형태 중 하나\n",
    "- 순서가 있는 집합 (인덱스)\n",
    "- 소괄호()로 작성되어지며, 콤마(,)로 구분된다.\n",
    "- 추가, 수정, 삭제 불가능하다\n",
    "- 처리속도 향상 및 메모리 공간 절약\n",
    "- 값이 변하면 안되는 경우 사용한다\n",
    "- 구문을 더 간단하게 사용하는 경우"
   ]
  },
  {
   "cell_type": "code",
   "execution_count": 5,
   "id": "18b02062",
   "metadata": {
    "scrolled": true
   },
   "outputs": [
    {
     "name": "stdout",
     "output_type": "stream",
     "text": [
      "(1, 2, ('My', 'Name'))\n"
     ]
    }
   ],
   "source": [
    "a = ()\n",
    "b = (1,2,3)\n",
    "c = ('My','Name')\n",
    "d = (1,2,'My','Name')\n",
    "e = (1,2,('My','Name'))\n",
    "print(e)"
   ]
  },
  {
   "cell_type": "code",
   "execution_count": 7,
   "id": "ed44b12a",
   "metadata": {},
   "outputs": [],
   "source": [
    "tuple1 = (0,1,2,3,('a','b','c'),5)"
   ]
  },
  {
   "cell_type": "code",
   "execution_count": 8,
   "id": "18ddaa25",
   "metadata": {},
   "outputs": [
    {
     "data": {
      "text/plain": [
       "2"
      ]
     },
     "execution_count": 8,
     "metadata": {},
     "output_type": "execute_result"
    }
   ],
   "source": [
    "tuple1[2]"
   ]
  },
  {
   "cell_type": "code",
   "execution_count": 9,
   "id": "ed76315e",
   "metadata": {},
   "outputs": [
    {
     "data": {
      "text/plain": [
       "('a', 'b', 'c')"
      ]
     },
     "execution_count": 9,
     "metadata": {},
     "output_type": "execute_result"
    }
   ],
   "source": [
    "tuple1[4]"
   ]
  },
  {
   "cell_type": "code",
   "execution_count": 10,
   "id": "80a596c9",
   "metadata": {},
   "outputs": [
    {
     "data": {
      "text/plain": [
       "(1, 2)"
      ]
     },
     "execution_count": 10,
     "metadata": {},
     "output_type": "execute_result"
    }
   ],
   "source": [
    "tuple1[1:3]"
   ]
  },
  {
   "cell_type": "code",
   "execution_count": 11,
   "id": "3a9f2e13",
   "metadata": {},
   "outputs": [
    {
     "data": {
      "text/plain": [
       "(3, ('a', 'b', 'c'), 5)"
      ]
     },
     "execution_count": 11,
     "metadata": {},
     "output_type": "execute_result"
    }
   ],
   "source": [
    "tuple1[3:]"
   ]
  },
  {
   "cell_type": "code",
   "execution_count": 12,
   "id": "4fe9d55a",
   "metadata": {},
   "outputs": [
    {
     "data": {
      "text/plain": [
       "6"
      ]
     },
     "execution_count": 12,
     "metadata": {},
     "output_type": "execute_result"
    }
   ],
   "source": [
    "len(tuple1)"
   ]
  },
  {
   "cell_type": "markdown",
   "id": "8d64421f",
   "metadata": {},
   "source": [
    "### 데이터의 포함 여부 확인\n",
    "- in, not in"
   ]
  },
  {
   "cell_type": "code",
   "execution_count": 13,
   "id": "428151cc",
   "metadata": {},
   "outputs": [],
   "source": [
    "str1 = \"파이썬 최고\""
   ]
  },
  {
   "cell_type": "code",
   "execution_count": 14,
   "id": "54b5eb4e",
   "metadata": {},
   "outputs": [
    {
     "data": {
      "text/plain": [
       "True"
      ]
     },
     "execution_count": 14,
     "metadata": {},
     "output_type": "execute_result"
    }
   ],
   "source": [
    "\"파이썬\" in str1"
   ]
  },
  {
   "cell_type": "code",
   "execution_count": 15,
   "id": "db0a08d9",
   "metadata": {},
   "outputs": [
    {
     "data": {
      "text/plain": [
       "False"
      ]
     },
     "execution_count": 15,
     "metadata": {},
     "output_type": "execute_result"
    }
   ],
   "source": [
    "\"파이썬최\" in str1"
   ]
  },
  {
   "cell_type": "code",
   "execution_count": 16,
   "id": "6190311d",
   "metadata": {},
   "outputs": [
    {
     "data": {
      "text/plain": [
       "False"
      ]
     },
     "execution_count": 16,
     "metadata": {},
     "output_type": "execute_result"
    }
   ],
   "source": [
    "\"파이썬\" not in str1"
   ]
  },
  {
   "cell_type": "code",
   "execution_count": 17,
   "id": "b6f9df4d",
   "metadata": {},
   "outputs": [],
   "source": [
    "list1 = [77, 38, 10]"
   ]
  },
  {
   "cell_type": "code",
   "execution_count": 19,
   "id": "70934d9f",
   "metadata": {},
   "outputs": [
    {
     "data": {
      "text/plain": [
       "True"
      ]
     },
     "execution_count": 19,
     "metadata": {},
     "output_type": "execute_result"
    }
   ],
   "source": [
    "33 not in list1"
   ]
  },
  {
   "cell_type": "code",
   "execution_count": 20,
   "id": "51b64393",
   "metadata": {},
   "outputs": [],
   "source": [
    "list_fruit = ['딸기', '바나나', '수박', '체리', '포도']"
   ]
  },
  {
   "cell_type": "code",
   "execution_count": 30,
   "id": "13332ec6",
   "metadata": {},
   "outputs": [
    {
     "name": "stdout",
     "output_type": "stream",
     "text": [
      "검색할 문자를 입력하세요 >> 수박\n",
      "수박는 리스트에 2번째 인덱스에 들어있습니다.\n"
     ]
    }
   ],
   "source": [
    "str=input('검색할 문자를 입력하세요 >> ')\n",
    "if str in list_fruit:\n",
    "    print('{}는 리스트에 {}번째 인덱스에 들어있습니다.'.format(str, list_fruit.index(str)))\n",
    "else:\n",
    "    print('{}는 리스트에 들어있지 않습니다.'.format(str))"
   ]
  },
  {
   "cell_type": "code",
   "execution_count": 36,
   "id": "1d3cdf01",
   "metadata": {},
   "outputs": [
    {
     "name": "stdout",
     "output_type": "stream",
     "text": [
      "*********************************************\n",
      "검색할 문자를 입력하세요 >> 오렌지\n",
      "오렌지는 리스트에 들어있지 않습니다.\n",
      "*********************************************\n"
     ]
    }
   ],
   "source": [
    "print('*' * 45)\n",
    "str=input('검색할 문자를 입력하세요 >> ')\n",
    "if str in list_fruit:\n",
    "    print(f'{str}는 리스트에 {list_fruit.index(str)}번째 인덱스에 들어있습니다.')\n",
    "else:\n",
    "    print(f'{str}는 리스트에 들어있지 않습니다.')\n",
    "print('*' * 45)"
   ]
  },
  {
   "cell_type": "code",
   "execution_count": 37,
   "id": "eefb1e76",
   "metadata": {},
   "outputs": [],
   "source": [
    "s = 'Hi, My name is bomi'"
   ]
  },
  {
   "cell_type": "code",
   "execution_count": 46,
   "id": "c31c8195",
   "metadata": {},
   "outputs": [
    {
     "name": "stdout",
     "output_type": "stream",
     "text": [
      "*********************************************\n",
      "검색할 문자를 입력하세요 : o\n",
      "o는 1번 들어 있습니다.\n",
      "*********************************************\n"
     ]
    }
   ],
   "source": [
    "print('*' * 45)\n",
    "str = input('검색할 문자를 입력하세요 : ')\n",
    "if str in s:\n",
    "    print(f'{str}는 {s.count(str)}번 들어 있습니다.')\n",
    "else:\n",
    "    print(f'{str}는 문자열에 들어있지 않습니다.')\n",
    "print('*' * 45)"
   ]
  },
  {
   "cell_type": "markdown",
   "id": "b8d175d5",
   "metadata": {},
   "source": [
    "### 반복문\n",
    "- while문 : 반복 횟수가 명확하지 않을 때 사용\n",
    "- for문 : 반복 횟수가 명확할 때 사용"
   ]
  },
  {
   "cell_type": "code",
   "execution_count": null,
   "id": "b02b450d",
   "metadata": {},
   "outputs": [],
   "source": [
    "while 조건문 :\n",
    "    실행문장"
   ]
  },
  {
   "cell_type": "code",
   "execution_count": 49,
   "id": "746ebb06",
   "metadata": {},
   "outputs": [
    {
     "name": "stdout",
     "output_type": "stream",
     "text": [
      "1파이썬 최고!!\n",
      "2파이썬 최고!!\n",
      "3파이썬 최고!!\n",
      "4파이썬 최고!!\n",
      "5파이썬 최고!!\n",
      "6파이썬 최고!!\n",
      "7파이썬 최고!!\n",
      "8파이썬 최고!!\n",
      "9파이썬 최고!!\n",
      "10파이썬 최고!!\n",
      "11파이썬 최고!!\n",
      "12파이썬 최고!!\n",
      "13파이썬 최고!!\n"
     ]
    }
   ],
   "source": [
    "num = 0\n",
    "while num < 13:\n",
    "    num+=1\n",
    "    print(f'{num}파이썬 최고!!')"
   ]
  },
  {
   "cell_type": "code",
   "execution_count": 53,
   "id": "cf17ff03",
   "metadata": {},
   "outputs": [
    {
     "name": "stdout",
     "output_type": "stream",
     "text": [
      "무한루프\n"
     ]
    }
   ],
   "source": [
    "while True:\n",
    "    print('무한루프')\n",
    "    break"
   ]
  },
  {
   "cell_type": "code",
   "execution_count": 54,
   "id": "62f5a76d",
   "metadata": {},
   "outputs": [
    {
     "name": "stdout",
     "output_type": "stream",
     "text": [
      "1\n",
      "2\n",
      "3\n"
     ]
    }
   ],
   "source": [
    "number = 1\n",
    "while True:\n",
    "    print(number)\n",
    "    number +=1\n",
    "    if number > 3:\n",
    "        break"
   ]
  },
  {
   "cell_type": "code",
   "execution_count": 64,
   "id": "c19830b6",
   "metadata": {},
   "outputs": [
    {
     "name": "stdout",
     "output_type": "stream",
     "text": [
      "첫 번째 정수 입력 >> 1\n",
      "두 번째 정수 입력 >> 2\n",
      "두 정수의 합 : 3\n",
      "첫 번째 정수 입력 >> 7\n",
      "두 번째 정수 입력 >> 3\n",
      "두 정수의 합 : 10\n",
      "첫 번째 정수 입력 >> 13\n",
      "두 번째 정수 입력 >> 7\n",
      "두 정수의 합 : 20\n",
      "첫 번째 정수 입력 >> 0\n",
      "두 번째 정수 입력 >> 0\n",
      "프로그램이 종료되었습니다.\n"
     ]
    }
   ],
   "source": [
    "while True:\n",
    "    n1 = int(input('첫 번째 정수 입력 >> '))\n",
    "    n2 = int(input('두 번째 정수 입력 >> '))\n",
    "    if n1 == 0 and n2 == 0:\n",
    "        print('프로그램이 종료되었습니다.')\n",
    "        break\n",
    "    else:\n",
    "        print(f'두 정수의 합 : {n1 + n2}')"
   ]
  },
  {
   "cell_type": "markdown",
   "id": "9c6e839d",
   "metadata": {},
   "source": [
    "### 다이어트 관리 프로그램"
   ]
  },
  {
   "cell_type": "code",
   "execution_count": 74,
   "id": "85b2d068",
   "metadata": {},
   "outputs": [
    {
     "name": "stdout",
     "output_type": "stream",
     "text": [
      "현재 몸무게 : 80\n",
      "목표 몸무게 : 70\n",
      "1주차 감량 몸무게 : 2\n",
      "2주차 감량 몸무게 : 3\n",
      "3주차 감량 몸무게 : 4\n",
      "4주차 감량 몸무게 : 5\n",
      "66 kg 달성!! 축하합니다!\n"
     ]
    }
   ],
   "source": [
    "week = 1\n",
    "c_w = int(input('현재 몸무게 : '))\n",
    "t_w = int(input('목표 몸무게 : '))\n",
    "while True:\n",
    "    d_w = int(input(f'{week}주차 감량 몸무게 : '))\n",
    "    c_w -= d_w\n",
    "    week += 1\n",
    "    if c_w <= t_w:\n",
    "        print(f'{c_w} kg 달성!! 축하합니다!')\n",
    "        break"
   ]
  },
  {
   "cell_type": "markdown",
   "id": "ad01ab40",
   "metadata": {},
   "source": [
    "for 반복문\n",
    "- 문자열 또는 "
   ]
  },
  {
   "cell_type": "code",
   "execution_count": 76,
   "id": "ebef9388",
   "metadata": {},
   "outputs": [
    {
     "name": "stdout",
     "output_type": "stream",
     "text": [
      "햄\n",
      "치\n",
      "피\n"
     ]
    }
   ],
   "source": [
    "list_food = [\"햄\",\"치\",\"피\"]\n",
    "for food in list_food:\n",
    "    print(food)"
   ]
  },
  {
   "cell_type": "code",
   "execution_count": 77,
   "id": "1ec24d30",
   "metadata": {},
   "outputs": [
    {
     "name": "stdout",
     "output_type": "stream",
     "text": [
      "안\n",
      "녕\n",
      "하\n",
      "세\n",
      "요\n"
     ]
    }
   ],
   "source": [
    "s = '안녕하세요'\n",
    "for i in s:\n",
    "    print(i)"
   ]
  },
  {
   "cell_type": "code",
   "execution_count": 78,
   "id": "447e6aef",
   "metadata": {},
   "outputs": [
    {
     "name": "stdout",
     "output_type": "stream",
     "text": [
      "햄\n",
      "치\n",
      "피\n"
     ]
    }
   ],
   "source": [
    "tuple_food = ('햄','치','피')\n",
    "for food in tuple_food:\n",
    "    print(food)"
   ]
  },
  {
   "cell_type": "code",
   "execution_count": 81,
   "id": "3c40fb73",
   "metadata": {},
   "outputs": [
    {
     "name": "stdout",
     "output_type": "stream",
     "text": [
      "1번 학생은 합격입니다.\n",
      "2번 학생은 불합격입니다.\n",
      "3번 학생은 합격입니다.\n",
      "4번 학생은 합격입니다.\n",
      "5번 학생은 불합격입니다.\n"
     ]
    }
   ],
   "source": [
    "score_list = [90, 45, 70, 60, 55]\n",
    "i=0\n",
    "for score in score_list:\n",
    "    i+=1\n",
    "    if score >= 60:\n",
    "        print(f'{i}번 학생은 합격입니다.')\n",
    "    else:\n",
    "        print(f'{i}번 학생은 불합격입니다.')\n",
    "    "
   ]
  },
  {
   "cell_type": "code",
   "execution_count": null,
   "id": "af0650b6",
   "metadata": {},
   "outputs": [],
   "source": []
  },
  {
   "cell_type": "code",
   "execution_count": null,
   "id": "a07ab751",
   "metadata": {},
   "outputs": [],
   "source": []
  },
  {
   "cell_type": "code",
   "execution_count": null,
   "id": "848585aa",
   "metadata": {},
   "outputs": [],
   "source": []
  },
  {
   "cell_type": "code",
   "execution_count": null,
   "id": "c0c12730",
   "metadata": {},
   "outputs": [],
   "source": []
  },
  {
   "cell_type": "code",
   "execution_count": null,
   "id": "2ff1e724",
   "metadata": {},
   "outputs": [],
   "source": []
  },
  {
   "cell_type": "code",
   "execution_count": null,
   "id": "c8de6430",
   "metadata": {},
   "outputs": [],
   "source": []
  },
  {
   "cell_type": "code",
   "execution_count": null,
   "id": "2f239c73",
   "metadata": {},
   "outputs": [],
   "source": []
  },
  {
   "cell_type": "code",
   "execution_count": null,
   "id": "98d91bb9",
   "metadata": {},
   "outputs": [],
   "source": []
  },
  {
   "cell_type": "code",
   "execution_count": null,
   "id": "f2480376",
   "metadata": {},
   "outputs": [],
   "source": []
  },
  {
   "cell_type": "code",
   "execution_count": null,
   "id": "85717960",
   "metadata": {},
   "outputs": [],
   "source": []
  },
  {
   "cell_type": "code",
   "execution_count": null,
   "id": "dc04e79a",
   "metadata": {},
   "outputs": [],
   "source": []
  },
  {
   "cell_type": "code",
   "execution_count": null,
   "id": "d249b2bc",
   "metadata": {},
   "outputs": [],
   "source": []
  }
 ],
 "metadata": {
  "kernelspec": {
   "display_name": "Python 3 (ipykernel)",
   "language": "python",
   "name": "python3"
  },
  "language_info": {
   "codemirror_mode": {
    "name": "ipython",
    "version": 3
   },
   "file_extension": ".py",
   "mimetype": "text/x-python",
   "name": "python",
   "nbconvert_exporter": "python",
   "pygments_lexer": "ipython3",
   "version": "3.9.7"
  }
 },
 "nbformat": 4,
 "nbformat_minor": 5
}
